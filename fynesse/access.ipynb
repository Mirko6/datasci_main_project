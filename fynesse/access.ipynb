{
 "cells": [
  {
   "cell_type": "code",
   "execution_count": 1,
   "metadata": {},
   "outputs": [],
   "source": [
    "import yaml\n",
    "from access import *"
   ]
  },
  {
   "cell_type": "code",
   "execution_count": 2,
   "metadata": {},
   "outputs": [],
   "source": [
    "url_cam_given_account = \"database-mm2503.cgrre17yxw11.eu-west-2.rds.amazonaws.com\"\n",
    "url_my_own_account = \"testdatabase-mariadb.czjzatt1ot3b.eu-west-2.rds.amazonaws.com\"\n",
    "database_details = {\"url\": url_my_own_account, \n",
    "                    \"port\": 3306}\n",
    "with open(\"credentials.yaml\") as file:\n",
    "  credentials = yaml.safe_load(file)\n",
    "username = credentials[\"username\"]\n",
    "password = credentials[\"password\"]\n",
    "url = database_details[\"url\"]"
   ]
  },
  {
   "cell_type": "code",
   "execution_count": 3,
   "metadata": {},
   "outputs": [],
   "source": [
    "conn = create_connection(user=credentials[\"username\"], \n",
    "                         password=credentials[\"password\"], \n",
    "                         host=database_details[\"url\"],\n",
    "                         database=\"household_prices\")\n",
    "table_name = \"pp_data\"\n",
    "sample_table_name = \"pp_data_sample\""
   ]
  },
  {
   "cell_type": "code",
   "execution_count": 4,
   "metadata": {},
   "outputs": [
    {
     "name": "stdout",
     "output_type": "stream",
     "text": [
      "<pymysql.connections.Connection object at 0x7efc740fc580>\n"
     ]
    }
   ],
   "source": [
    "print(conn)\n",
    "conn.ping()"
   ]
  },
  {
   "cell_type": "code",
   "execution_count": 5,
   "metadata": {},
   "outputs": [
    {
     "name": "stdout",
     "output_type": "stream",
     "text": [
      "tables: (('pp_data',), ('pp_data_sample',))\n"
     ]
    }
   ],
   "source": [
    "cur = conn.cursor()\n",
    "#cur.execute(\"USE `household_prices`\")\n",
    "cur.execute(\"show tables\")\n",
    "result = cur.fetchall()\n",
    "print(f\"tables: {result}\")"
   ]
  },
  {
   "cell_type": "code",
   "execution_count": 6,
   "metadata": {},
   "outputs": [
    {
     "name": "stdout",
     "output_type": "stream",
     "text": [
      "count pp_data_sample: ((0,),)\n"
     ]
    }
   ],
   "source": [
    "cur = conn.cursor()\n",
    "cur.execute(\"SELECT COUNT(*) from pp_data_sample\")\n",
    "result = cur.fetchall()\n",
    "print(f\"count pp_data_sample: {result}\")"
   ]
  },
  {
   "cell_type": "code",
   "execution_count": 4,
   "metadata": {},
   "outputs": [
    {
     "data": {
      "text/html": [
       "<div>\n",
       "<style scoped>\n",
       "    .dataframe tbody tr th:only-of-type {\n",
       "        vertical-align: middle;\n",
       "    }\n",
       "\n",
       "    .dataframe tbody tr th {\n",
       "        vertical-align: top;\n",
       "    }\n",
       "\n",
       "    .dataframe thead th {\n",
       "        text-align: right;\n",
       "    }\n",
       "</style>\n",
       "<table border=\"1\" class=\"dataframe\">\n",
       "  <thead>\n",
       "    <tr style=\"text-align: right;\">\n",
       "      <th></th>\n",
       "      <th>transaction_unique_identifier</th>\n",
       "      <th>price</th>\n",
       "      <th>date_of_transfer</th>\n",
       "      <th>postcode</th>\n",
       "      <th>property_type</th>\n",
       "      <th>new_build_flag</th>\n",
       "      <th>tenure_type</th>\n",
       "      <th>primary_addressable_object_name</th>\n",
       "      <th>secondary_addressable_object_name</th>\n",
       "      <th>street</th>\n",
       "      <th>locality</th>\n",
       "      <th>town_city</th>\n",
       "      <th>district</th>\n",
       "      <th>county</th>\n",
       "      <th>ppd_category_type</th>\n",
       "      <th>record_status</th>\n",
       "      <th>db_id</th>\n",
       "    </tr>\n",
       "  </thead>\n",
       "  <tbody>\n",
       "    <tr>\n",
       "      <th>0</th>\n",
       "      <td>{5BBE9CB3-6332-4EB0-9CD3-8737CEA4A65A}</td>\n",
       "      <td>42000</td>\n",
       "      <td>1995-12-21</td>\n",
       "      <td>NE4 9DN</td>\n",
       "      <td>S</td>\n",
       "      <td>N</td>\n",
       "      <td>F</td>\n",
       "      <td>8</td>\n",
       "      <td></td>\n",
       "      <td>MATFEN PLACE</td>\n",
       "      <td>FENHAM</td>\n",
       "      <td>NEWCASTLE UPON TYNE</td>\n",
       "      <td>NEWCASTLE UPON TYNE</td>\n",
       "      <td>TYNE AND WEAR</td>\n",
       "      <td>A</td>\n",
       "      <td>A</td>\n",
       "      <td>1</td>\n",
       "    </tr>\n",
       "    <tr>\n",
       "      <th>1</th>\n",
       "      <td>{20E2441A-0F16-49AB-97D4-8737E62A5D93}</td>\n",
       "      <td>95000</td>\n",
       "      <td>1995-03-03</td>\n",
       "      <td>RM16 4UR</td>\n",
       "      <td>S</td>\n",
       "      <td>N</td>\n",
       "      <td>F</td>\n",
       "      <td>30</td>\n",
       "      <td></td>\n",
       "      <td>HEATH ROAD</td>\n",
       "      <td>GRAYS</td>\n",
       "      <td>GRAYS</td>\n",
       "      <td>THURROCK</td>\n",
       "      <td>THURROCK</td>\n",
       "      <td>A</td>\n",
       "      <td>A</td>\n",
       "      <td>2</td>\n",
       "    </tr>\n",
       "    <tr>\n",
       "      <th>2</th>\n",
       "      <td>{D893EE64-4464-44B5-B01B-8E62403ED83C}</td>\n",
       "      <td>74950</td>\n",
       "      <td>1995-10-03</td>\n",
       "      <td>CW10 9ES</td>\n",
       "      <td>D</td>\n",
       "      <td>Y</td>\n",
       "      <td>F</td>\n",
       "      <td>15</td>\n",
       "      <td></td>\n",
       "      <td>SHROPSHIRE CLOSE</td>\n",
       "      <td>MIDDLEWICH</td>\n",
       "      <td>MIDDLEWICH</td>\n",
       "      <td>CONGLETON</td>\n",
       "      <td>CHESHIRE</td>\n",
       "      <td>A</td>\n",
       "      <td>A</td>\n",
       "      <td>3</td>\n",
       "    </tr>\n",
       "    <tr>\n",
       "      <th>3</th>\n",
       "      <td>{F9F753A8-E56A-4ECC-9927-8E626A471A92}</td>\n",
       "      <td>43500</td>\n",
       "      <td>1995-11-14</td>\n",
       "      <td>TS23 3LA</td>\n",
       "      <td>S</td>\n",
       "      <td>N</td>\n",
       "      <td>F</td>\n",
       "      <td>19</td>\n",
       "      <td></td>\n",
       "      <td>SLEDMERE CLOSE</td>\n",
       "      <td>BILLINGHAM</td>\n",
       "      <td>BILLINGHAM</td>\n",
       "      <td>STOCKTON-ON-TEES</td>\n",
       "      <td>STOCKTON-ON-TEES</td>\n",
       "      <td>A</td>\n",
       "      <td>A</td>\n",
       "      <td>4</td>\n",
       "    </tr>\n",
       "    <tr>\n",
       "      <th>4</th>\n",
       "      <td>{E166398A-A19E-470E-BB5A-83B4C254CF6D}</td>\n",
       "      <td>63000</td>\n",
       "      <td>1995-09-08</td>\n",
       "      <td>CA25 5QH</td>\n",
       "      <td>S</td>\n",
       "      <td>N</td>\n",
       "      <td>F</td>\n",
       "      <td>8</td>\n",
       "      <td></td>\n",
       "      <td>CROSSINGS CLOSE</td>\n",
       "      <td>CLEATOR MOOR</td>\n",
       "      <td>CLEATOR MOOR</td>\n",
       "      <td>COPELAND</td>\n",
       "      <td>CUMBRIA</td>\n",
       "      <td>A</td>\n",
       "      <td>A</td>\n",
       "      <td>5</td>\n",
       "    </tr>\n",
       "  </tbody>\n",
       "</table>\n",
       "</div>"
      ],
      "text/plain": [
       "            transaction_unique_identifier  price date_of_transfer  postcode  \\\n",
       "0  {5BBE9CB3-6332-4EB0-9CD3-8737CEA4A65A}  42000       1995-12-21   NE4 9DN   \n",
       "1  {20E2441A-0F16-49AB-97D4-8737E62A5D93}  95000       1995-03-03  RM16 4UR   \n",
       "2  {D893EE64-4464-44B5-B01B-8E62403ED83C}  74950       1995-10-03  CW10 9ES   \n",
       "3  {F9F753A8-E56A-4ECC-9927-8E626A471A92}  43500       1995-11-14  TS23 3LA   \n",
       "4  {E166398A-A19E-470E-BB5A-83B4C254CF6D}  63000       1995-09-08  CA25 5QH   \n",
       "\n",
       "  property_type new_build_flag tenure_type primary_addressable_object_name  \\\n",
       "0             S              N           F                               8   \n",
       "1             S              N           F                              30   \n",
       "2             D              Y           F                              15   \n",
       "3             S              N           F                              19   \n",
       "4             S              N           F                               8   \n",
       "\n",
       "  secondary_addressable_object_name            street      locality  \\\n",
       "0                                        MATFEN PLACE        FENHAM   \n",
       "1                                          HEATH ROAD         GRAYS   \n",
       "2                                    SHROPSHIRE CLOSE    MIDDLEWICH   \n",
       "3                                      SLEDMERE CLOSE    BILLINGHAM   \n",
       "4                                     CROSSINGS CLOSE  CLEATOR MOOR   \n",
       "\n",
       "             town_city             district            county  \\\n",
       "0  NEWCASTLE UPON TYNE  NEWCASTLE UPON TYNE     TYNE AND WEAR   \n",
       "1                GRAYS             THURROCK          THURROCK   \n",
       "2           MIDDLEWICH            CONGLETON          CHESHIRE   \n",
       "3           BILLINGHAM     STOCKTON-ON-TEES  STOCKTON-ON-TEES   \n",
       "4         CLEATOR MOOR             COPELAND           CUMBRIA   \n",
       "\n",
       "  ppd_category_type record_status  db_id  \n",
       "0                 A             A      1  \n",
       "1                 A             A      2  \n",
       "2                 A             A      3  \n",
       "3                 A             A      4  \n",
       "4                 A             A      5  "
      ]
     },
     "execution_count": 4,
     "metadata": {},
     "output_type": "execute_result"
    }
   ],
   "source": [
    "df = select_top_to_df(conn, table_name)\n",
    "df.head()"
   ]
  },
  {
   "cell_type": "code",
   "execution_count": 8,
   "metadata": {},
   "outputs": [],
   "source": [
    "drop_and_create_table_for_priced_paid_data(conn, \"pp_data\")\n",
    "drop_and_create_table_for_priced_paid_data(conn, \"pp_data_sample\")"
   ]
  },
  {
   "cell_type": "code",
   "execution_count": 9,
   "metadata": {},
   "outputs": [
    {
     "name": "stdout",
     "output_type": "stream",
     "text": [
      "fetching data from year: 1995, part: 1\n",
      "uploading the data\n",
      "fetching data from year: 1995, part: 2\n",
      "uploading the data\n"
     ]
    }
   ],
   "source": [
    "num_fetched_rows, num_uploaded_rows = upload_datasets(conn, \"pp_data\", \"pp_data_sample\", 1995, 1996)"
   ]
  },
  {
   "cell_type": "code",
   "execution_count": 10,
   "metadata": {},
   "outputs": [
    {
     "name": "stdout",
     "output_type": "stream",
     "text": [
      "[398426, 398426]\n",
      "[398426, 398426]\n"
     ]
    }
   ],
   "source": [
    "print(num_fetched_rows)\n",
    "print(num_uploaded_rows)"
   ]
  },
  {
   "cell_type": "code",
   "execution_count": 11,
   "metadata": {},
   "outputs": [
    {
     "name": "stdout",
     "output_type": "stream",
     "text": [
      "total_rows: ((796852,),), sample_rows: ((7968,),)\n"
     ]
    }
   ],
   "source": [
    "total_rows = custom_simple_select(conn, \"pp_data\")\n",
    "sample_rows = custom_simple_select(conn, \"pp_data_sample\")\n",
    "print(f\"total_rows: {total_rows}, sample_rows: {sample_rows}\")"
   ]
  },
  {
   "cell_type": "code",
   "execution_count": 12,
   "metadata": {},
   "outputs": [],
   "source": [
    "conn.commit()\n",
    "conn.close()"
   ]
  },
  {
   "cell_type": "code",
   "execution_count": 20,
   "metadata": {},
   "outputs": [],
   "source": [
    "num_fetched_rows, num_uploaded_rows = upload_2022_dataset(conn)"
   ]
  },
  {
   "cell_type": "code",
   "execution_count": 21,
   "metadata": {},
   "outputs": [
    {
     "name": "stdout",
     "output_type": "stream",
     "text": [
      "456603 456603\n"
     ]
    }
   ],
   "source": [
    "print(num_uploaded_rows, num_fetched_rows)"
   ]
  }
 ],
 "metadata": {
  "kernelspec": {
   "display_name": "Python 3.8.10 64-bit",
   "language": "python",
   "name": "python3"
  },
  "language_info": {
   "codemirror_mode": {
    "name": "ipython",
    "version": 3
   },
   "file_extension": ".py",
   "mimetype": "text/x-python",
   "name": "python",
   "nbconvert_exporter": "python",
   "pygments_lexer": "ipython3",
   "version": "3.8.10"
  },
  "orig_nbformat": 4,
  "vscode": {
   "interpreter": {
    "hash": "916dbcbb3f70747c44a77c7bcd40155683ae19c65e1c03b4aa3499c5328201f1"
   }
  }
 },
 "nbformat": 4,
 "nbformat_minor": 2
}
